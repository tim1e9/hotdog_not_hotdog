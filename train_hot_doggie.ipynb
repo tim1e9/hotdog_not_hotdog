{
 "cells": [
  {
   "cell_type": "code",
   "execution_count": 3,
   "metadata": {},
   "outputs": [
    {
     "name": "stdout",
     "output_type": "stream",
     "text": [
      "/Users/tdc/dev/aiml/src/hotdog1/kenny\n"
     ]
    }
   ],
   "source": [
    "import os\n",
    "from train_model import train_model_with_params\n"
   ]
  },
  {
   "cell_type": "code",
   "execution_count": null,
   "metadata": {},
   "outputs": [],
   "source": [
    "model_name = \"COCO-Detection/retinanet_R_101_FPN_3x.yaml\"\n",
    "root_dir = os.getcwd()\n",
    "dataset_dir = os.path.join(root_dir, \"input\")\n",
    "output_dir = os.path.join(root_dir, \"output\")\n",
    "use_gpu = True\n",
    "\n",
    "# Note: the dataset_dir should have subdirectories named 'train' and 'val'\n",
    "# Within each of those subdirs, there should be subdirs named imgs and anns\n",
    "\n",
    "# Tweak these as needed\n",
    "learning_rate = 0.00001\n",
    "batch_size = 4\n",
    "num_iterations = 5000\n",
    "checkpoint_interval = 500\n",
    "\n",
    "train_model_with_params(model_name=model_name, dataset_dir=dataset_dir, output_dir=output_dir,\n",
    "                        use_gpu=use_gpu, learning_rate=learning_rate, batch_size=batch_size,\n",
    "                        num_iterations=num_iterations, checkpoint_interval=checkpoint_interval)"
   ]
  }
 ],
 "metadata": {
  "kernelspec": {
   "display_name": "aimlenv",
   "language": "python",
   "name": "python3"
  },
  "language_info": {
   "codemirror_mode": {
    "name": "ipython",
    "version": 3
   },
   "file_extension": ".py",
   "mimetype": "text/x-python",
   "name": "python",
   "nbconvert_exporter": "python",
   "pygments_lexer": "ipython3",
   "version": "3.10.14"
  }
 },
 "nbformat": 4,
 "nbformat_minor": 2
}
